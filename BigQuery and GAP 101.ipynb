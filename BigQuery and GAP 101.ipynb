{
 "metadata": {
  "name": "",
  "signature": "sha256:de349ce7896ac1b484c03e3ac18f668d9cb1147b4f2d8e7385fe45257d90b197"
 },
 "nbformat": 3,
 "nbformat_minor": 0,
 "worksheets": [
  {
   "cells": [
    {
     "cell_type": "markdown",
     "metadata": {},
     "source": [
      "# BigQuery - Basics\n",
      "\n",
      "This notebook demonstrates how you can quickly get started using BigQuery, exploring tables, schema and data, as well as how you can integrate BigQuery results with the world of python data analysis and visualization - all within a notebook.\n",
      "\n",
      "This notebook uses a sample dataset of request logs data from a web server.\n",
      "\n",
      "Related Links:\n",
      "\n",
      "* [BigQuery](https://cloud.google.com/bigquery/)\n",
      "* BigQuery [SQL reference](https://cloud.google.com/bigquery/query-reference)\n",
      "* Python [Pandas](http://pandas.pydata.org/) for data analysis\n",
      "* Python [matplotlib](http://matplotlib.org/) for data visualization\n",
      "\n",
      "----\n",
      "\n",
      "NOTE:\n",
      "\n",
      "* If you're new to notebooks, or want to check out additional samples, check out the full [list](..) of notebooks."
     ]
    },
    {
     "cell_type": "heading",
     "level": 2,
     "metadata": {},
     "source": [
      "Python APIs for working with BigQuery"
     ]
    },
    {
     "cell_type": "markdown",
     "metadata": {},
     "source": [
      "Using the python APIs in the `PyGCP` library you can directly work with all the datasets that are contained or shared with your cloud project. The following `gcp.bigquery` import makes the BigQuery functionality available to this notebook."
     ]
    },
    {
     "cell_type": "code",
     "collapsed": false,
     "input": [
      "import gcp\n",
      "import gcp.bigquery as bq "
     ],
     "language": "python",
     "metadata": {},
     "outputs": [],
     "prompt_number": 1
    },
    {
     "cell_type": "markdown",
     "metadata": {},
     "source": [
      "You can explore the tables you have within your BigQuery datasets, as well as list their schema using the following APIs."
     ]
    },
    {
     "cell_type": "heading",
     "level": 2,
     "metadata": {},
     "source": [
      "Task 1: Checking the Schema"
     ]
    },
    {
     "cell_type": "code",
     "collapsed": false,
     "input": [
      "logs_table = bq.table('savvy-droplet-734:google_shop_gap.ga_sessions_20150710')\n",
      "logs_table.schema"
     ],
     "language": "python",
     "metadata": {},
     "outputs": [
      {
       "html": [
        "\n",
        "    <div class=\"bqsv\" id=\"bqsv143711846403\"></div>\n",
        "    <script>\n",
        "      require(['style!/static/extensions/bigquery.css', 'extensions/bigquery', 'element!bqsv143711846403'],\n",
        "          function(_, bq, dom) {\n",
        "              bq.renderSchema(dom, [{\"type\": \"INTEGER\", \"name\": \"visitorId\", \"mode\": \"NULLABLE\"}, {\"type\": \"INTEGER\", \"name\": \"visitNumber\", \"mode\": \"NULLABLE\"}, {\"type\": \"INTEGER\", \"name\": \"visitId\", \"mode\": \"NULLABLE\"}, {\"type\": \"INTEGER\", \"name\": \"visitStartTime\", \"mode\": \"NULLABLE\"}, {\"type\": \"STRING\", \"name\": \"date\", \"mode\": \"NULLABLE\"}, {\"fields\": [{\"type\": \"INTEGER\", \"name\": \"visits\", \"mode\": \"NULLABLE\"}, {\"type\": \"INTEGER\", \"name\": \"hits\", \"mode\": \"NULLABLE\"}, {\"type\": \"INTEGER\", \"name\": \"pageviews\", \"mode\": \"NULLABLE\"}, {\"type\": \"INTEGER\", \"name\": \"timeOnSite\", \"mode\": \"NULLABLE\"}, {\"type\": \"INTEGER\", \"name\": \"bounces\", \"mode\": \"NULLABLE\"}, {\"type\": \"INTEGER\", \"name\": \"transactions\", \"mode\": \"NULLABLE\"}, {\"type\": \"INTEGER\", \"name\": \"transactionRevenue\", \"mode\": \"NULLABLE\"}, {\"type\": \"INTEGER\", \"name\": \"newVisits\", \"mode\": \"NULLABLE\"}, {\"type\": \"INTEGER\", \"name\": \"screenviews\", \"mode\": \"NULLABLE\"}, {\"type\": \"INTEGER\", \"name\": \"uniqueScreenviews\", \"mode\": \"NULLABLE\"}, {\"type\": \"INTEGER\", \"name\": \"timeOnScreen\", \"mode\": \"NULLABLE\"}, {\"type\": \"INTEGER\", \"name\": \"totalTransactionRevenue\", \"mode\": \"NULLABLE\"}], \"type\": \"RECORD\", \"name\": \"totals\", \"mode\": \"NULLABLE\"}, {\"fields\": [{\"type\": \"STRING\", \"name\": \"referralPath\", \"mode\": \"NULLABLE\"}, {\"type\": \"STRING\", \"name\": \"campaign\", \"mode\": \"NULLABLE\"}, {\"type\": \"STRING\", \"name\": \"source\", \"mode\": \"NULLABLE\"}, {\"type\": \"STRING\", \"name\": \"medium\", \"mode\": \"NULLABLE\"}, {\"type\": \"STRING\", \"name\": \"keyword\", \"mode\": \"NULLABLE\"}, {\"type\": \"STRING\", \"name\": \"adContent\", \"mode\": \"NULLABLE\"}], \"type\": \"RECORD\", \"name\": \"trafficSource\", \"mode\": \"NULLABLE\"}, {\"fields\": [{\"type\": \"STRING\", \"name\": \"browser\", \"mode\": \"NULLABLE\"}, {\"type\": \"STRING\", \"name\": \"browserVersion\", \"mode\": \"NULLABLE\"}, {\"type\": \"STRING\", \"name\": \"operatingSystem\", \"mode\": \"NULLABLE\"}, {\"type\": \"STRING\", \"name\": \"operatingSystemVersion\", \"mode\": \"NULLABLE\"}, {\"type\": \"BOOLEAN\", \"name\": \"isMobile\", \"mode\": \"NULLABLE\"}, {\"type\": \"STRING\", \"name\": \"mobileDeviceBranding\", \"mode\": \"NULLABLE\"}, {\"type\": \"STRING\", \"name\": \"flashVersion\", \"mode\": \"NULLABLE\"}, {\"type\": \"BOOLEAN\", \"name\": \"javaEnabled\", \"mode\": \"NULLABLE\"}, {\"type\": \"STRING\", \"name\": \"language\", \"mode\": \"NULLABLE\"}, {\"type\": \"STRING\", \"name\": \"screenColors\", \"mode\": \"NULLABLE\"}, {\"type\": \"STRING\", \"name\": \"screenResolution\", \"mode\": \"NULLABLE\"}, {\"type\": \"STRING\", \"name\": \"deviceCategory\", \"mode\": \"NULLABLE\"}], \"type\": \"RECORD\", \"name\": \"device\", \"mode\": \"NULLABLE\"}, {\"fields\": [{\"type\": \"STRING\", \"name\": \"continent\", \"mode\": \"NULLABLE\"}, {\"type\": \"STRING\", \"name\": \"subContinent\", \"mode\": \"NULLABLE\"}, {\"type\": \"STRING\", \"name\": \"country\", \"mode\": \"NULLABLE\"}, {\"type\": \"STRING\", \"name\": \"region\", \"mode\": \"NULLABLE\"}, {\"type\": \"STRING\", \"name\": \"metro\", \"mode\": \"NULLABLE\"}], \"type\": \"RECORD\", \"name\": \"geoNetwork\", \"mode\": \"NULLABLE\"}, {\"fields\": [{\"type\": \"INTEGER\", \"name\": \"index\", \"mode\": \"NULLABLE\"}, {\"type\": \"STRING\", \"name\": \"value\", \"mode\": \"NULLABLE\"}], \"type\": \"RECORD\", \"name\": \"customDimensions\", \"mode\": \"REPEATED\"}, {\"fields\": [{\"type\": \"INTEGER\", \"name\": \"hitNumber\", \"mode\": \"NULLABLE\"}, {\"type\": \"INTEGER\", \"name\": \"time\", \"mode\": \"NULLABLE\"}, {\"type\": \"INTEGER\", \"name\": \"hour\", \"mode\": \"NULLABLE\"}, {\"type\": \"INTEGER\", \"name\": \"minute\", \"mode\": \"NULLABLE\"}, {\"type\": \"BOOLEAN\", \"name\": \"isSecure\", \"mode\": \"NULLABLE\"}, {\"type\": \"BOOLEAN\", \"name\": \"isInteraction\", \"mode\": \"NULLABLE\"}, {\"type\": \"STRING\", \"name\": \"referer\", \"mode\": \"NULLABLE\"}, {\"fields\": [{\"type\": \"STRING\", \"name\": \"pagePath\", \"mode\": \"NULLABLE\"}, {\"type\": \"STRING\", \"name\": \"hostname\", \"mode\": \"NULLABLE\"}, {\"type\": \"STRING\", \"name\": \"pageTitle\", \"mode\": \"NULLABLE\"}, {\"type\": \"STRING\", \"name\": \"searchKeyword\", \"mode\": \"NULLABLE\"}, {\"type\": \"STRING\", \"name\": \"searchCategory\", \"mode\": \"NULLABLE\"}], \"type\": \"RECORD\", \"name\": \"page\", \"mode\": \"NULLABLE\"}, {\"fields\": [{\"type\": \"STRING\", \"name\": \"transactionId\", \"mode\": \"NULLABLE\"}, {\"type\": \"INTEGER\", \"name\": \"transactionRevenue\", \"mode\": \"NULLABLE\"}, {\"type\": \"INTEGER\", \"name\": \"transactionTax\", \"mode\": \"NULLABLE\"}, {\"type\": \"INTEGER\", \"name\": \"transactionShipping\", \"mode\": \"NULLABLE\"}, {\"type\": \"STRING\", \"name\": \"affiliation\", \"mode\": \"NULLABLE\"}, {\"type\": \"STRING\", \"name\": \"currencyCode\", \"mode\": \"NULLABLE\"}, {\"type\": \"INTEGER\", \"name\": \"localTransactionRevenue\", \"mode\": \"NULLABLE\"}, {\"type\": \"INTEGER\", \"name\": \"localTransactionTax\", \"mode\": \"NULLABLE\"}, {\"type\": \"INTEGER\", \"name\": \"localTransactionShipping\", \"mode\": \"NULLABLE\"}, {\"type\": \"STRING\", \"name\": \"transactionCoupon\", \"mode\": \"NULLABLE\"}], \"type\": \"RECORD\", \"name\": \"transaction\", \"mode\": \"NULLABLE\"}, {\"fields\": [{\"type\": \"STRING\", \"name\": \"transactionId\", \"mode\": \"NULLABLE\"}, {\"type\": \"STRING\", \"name\": \"productName\", \"mode\": \"NULLABLE\"}, {\"type\": \"STRING\", \"name\": \"productCategory\", \"mode\": \"NULLABLE\"}, {\"type\": \"STRING\", \"name\": \"productSku\", \"mode\": \"NULLABLE\"}, {\"type\": \"INTEGER\", \"name\": \"itemQuantity\", \"mode\": \"NULLABLE\"}, {\"type\": \"INTEGER\", \"name\": \"itemRevenue\", \"mode\": \"NULLABLE\"}, {\"type\": \"STRING\", \"name\": \"currencyCode\", \"mode\": \"NULLABLE\"}, {\"type\": \"INTEGER\", \"name\": \"localItemRevenue\", \"mode\": \"NULLABLE\"}], \"type\": \"RECORD\", \"name\": \"item\", \"mode\": \"NULLABLE\"}, {\"fields\": [{\"type\": \"STRING\", \"name\": \"contentDescription\", \"mode\": \"NULLABLE\"}], \"type\": \"RECORD\", \"name\": \"contentInfo\", \"mode\": \"NULLABLE\"}, {\"fields\": [{\"type\": \"STRING\", \"name\": \"name\", \"mode\": \"NULLABLE\"}, {\"type\": \"STRING\", \"name\": \"version\", \"mode\": \"NULLABLE\"}, {\"type\": \"STRING\", \"name\": \"id\", \"mode\": \"NULLABLE\"}, {\"type\": \"STRING\", \"name\": \"installerId\", \"mode\": \"NULLABLE\"}, {\"type\": \"STRING\", \"name\": \"appInstallerId\", \"mode\": \"NULLABLE\"}, {\"type\": \"STRING\", \"name\": \"appName\", \"mode\": \"NULLABLE\"}, {\"type\": \"STRING\", \"name\": \"appVersion\", \"mode\": \"NULLABLE\"}, {\"type\": \"STRING\", \"name\": \"appId\", \"mode\": \"NULLABLE\"}, {\"type\": \"STRING\", \"name\": \"screenName\", \"mode\": \"NULLABLE\"}, {\"type\": \"STRING\", \"name\": \"landingScreenName\", \"mode\": \"NULLABLE\"}, {\"type\": \"STRING\", \"name\": \"exitScreenName\", \"mode\": \"NULLABLE\"}, {\"type\": \"STRING\", \"name\": \"screenDepth\", \"mode\": \"NULLABLE\"}], \"type\": \"RECORD\", \"name\": \"appInfo\", \"mode\": \"NULLABLE\"}, {\"fields\": [{\"type\": \"STRING\", \"name\": \"description\", \"mode\": \"NULLABLE\"}, {\"type\": \"BOOLEAN\", \"name\": \"isFatal\", \"mode\": \"NULLABLE\"}], \"type\": \"RECORD\", \"name\": \"exceptionInfo\", \"mode\": \"NULLABLE\"}, {\"fields\": [{\"type\": \"STRING\", \"name\": \"eventCategory\", \"mode\": \"NULLABLE\"}, {\"type\": \"STRING\", \"name\": \"eventAction\", \"mode\": \"NULLABLE\"}, {\"type\": \"STRING\", \"name\": \"eventLabel\", \"mode\": \"NULLABLE\"}, {\"type\": \"INTEGER\", \"name\": \"eventValue\", \"mode\": \"NULLABLE\"}], \"type\": \"RECORD\", \"name\": \"eventInfo\", \"mode\": \"NULLABLE\"}, {\"fields\": [{\"type\": \"STRING\", \"name\": \"productSKU\", \"mode\": \"NULLABLE\"}, {\"type\": \"STRING\", \"name\": \"v2ProductName\", \"mode\": \"NULLABLE\"}, {\"type\": \"STRING\", \"name\": \"v2ProductCategory\", \"mode\": \"NULLABLE\"}, {\"type\": \"STRING\", \"name\": \"productVariant\", \"mode\": \"NULLABLE\"}, {\"type\": \"STRING\", \"name\": \"productBrand\", \"mode\": \"NULLABLE\"}, {\"type\": \"INTEGER\", \"name\": \"productRevenue\", \"mode\": \"NULLABLE\"}, {\"type\": \"INTEGER\", \"name\": \"localProductRevenue\", \"mode\": \"NULLABLE\"}, {\"type\": \"INTEGER\", \"name\": \"productPrice\", \"mode\": \"NULLABLE\"}, {\"type\": \"INTEGER\", \"name\": \"localProductPrice\", \"mode\": \"NULLABLE\"}, {\"type\": \"INTEGER\", \"name\": \"productQuantity\", \"mode\": \"NULLABLE\"}, {\"type\": \"INTEGER\", \"name\": \"productRefundAmount\", \"mode\": \"NULLABLE\"}, {\"type\": \"INTEGER\", \"name\": \"localProductRefundAmount\", \"mode\": \"NULLABLE\"}, {\"type\": \"BOOLEAN\", \"name\": \"isImpression\", \"mode\": \"NULLABLE\"}], \"type\": \"RECORD\", \"name\": \"product\", \"mode\": \"REPEATED\"}, {\"fields\": [{\"type\": \"STRING\", \"name\": \"promoId\", \"mode\": \"NULLABLE\"}, {\"type\": \"STRING\", \"name\": \"promoName\", \"mode\": \"NULLABLE\"}, {\"type\": \"STRING\", \"name\": \"promoCreative\", \"mode\": \"NULLABLE\"}, {\"type\": \"STRING\", \"name\": \"promoPosition\", \"mode\": \"NULLABLE\"}], \"type\": \"RECORD\", \"name\": \"promotion\", \"mode\": \"REPEATED\"}, {\"fields\": [{\"type\": \"INTEGER\", \"name\": \"refundAmount\", \"mode\": \"NULLABLE\"}, {\"type\": \"INTEGER\", \"name\": \"localRefundAmount\", \"mode\": \"NULLABLE\"}], \"type\": \"RECORD\", \"name\": \"refund\", \"mode\": \"NULLABLE\"}, {\"fields\": [{\"type\": \"STRING\", \"name\": \"action_type\", \"mode\": \"NULLABLE\"}, {\"type\": \"INTEGER\", \"name\": \"step\", \"mode\": \"NULLABLE\"}, {\"type\": \"STRING\", \"name\": \"option\", \"mode\": \"NULLABLE\"}], \"type\": \"RECORD\", \"name\": \"eCommerceAction\", \"mode\": \"NULLABLE\"}, {\"fields\": [{\"type\": \"INTEGER\", \"name\": \"index\", \"mode\": \"NULLABLE\"}, {\"type\": \"STRING\", \"name\": \"customVarName\", \"mode\": \"NULLABLE\"}, {\"type\": \"STRING\", \"name\": \"customVarValue\", \"mode\": \"NULLABLE\"}], \"type\": \"RECORD\", \"name\": \"customVariables\", \"mode\": \"REPEATED\"}, {\"fields\": [{\"type\": \"INTEGER\", \"name\": \"index\", \"mode\": \"NULLABLE\"}, {\"type\": \"STRING\", \"name\": \"value\", \"mode\": \"NULLABLE\"}], \"type\": \"RECORD\", \"name\": \"customDimensions\", \"mode\": \"REPEATED\"}, {\"fields\": [{\"type\": \"INTEGER\", \"name\": \"index\", \"mode\": \"NULLABLE\"}, {\"type\": \"INTEGER\", \"name\": \"value\", \"mode\": \"NULLABLE\"}], \"type\": \"RECORD\", \"name\": \"customMetrics\", \"mode\": \"REPEATED\"}, {\"type\": \"STRING\", \"name\": \"type\", \"mode\": \"NULLABLE\"}, {\"fields\": [{\"type\": \"STRING\", \"name\": \"socialInteractionNetwork\", \"mode\": \"NULLABLE\"}, {\"type\": \"STRING\", \"name\": \"socialInteractionAction\", \"mode\": \"NULLABLE\"}], \"type\": \"RECORD\", \"name\": \"social\", \"mode\": \"NULLABLE\"}], \"type\": \"RECORD\", \"name\": \"hits\", \"mode\": \"REPEATED\"}, {\"type\": \"STRING\", \"name\": \"fullVisitorId\", \"mode\": \"NULLABLE\"}]);\n",
        "          }\n",
        "      );\n",
        "    </script>\n",
        "    "
       ],
       "metadata": {},
       "output_type": "pyout",
       "prompt_number": 2,
       "text": [
        "[{ 'name': 'visitorId', 'type': 'INTEGER', 'mode':'NULLABLE', 'description': 'None' },\n",
        " { 'name': 'visitNumber', 'type': 'INTEGER', 'mode':'NULLABLE', 'description': 'None' },\n",
        " { 'name': 'visitId', 'type': 'INTEGER', 'mode':'NULLABLE', 'description': 'None' },\n",
        " { 'name': 'visitStartTime', 'type': 'INTEGER', 'mode':'NULLABLE', 'description': 'None' },\n",
        " { 'name': 'date', 'type': 'STRING', 'mode':'NULLABLE', 'description': 'None' },\n",
        " { 'name': 'totals', 'type': 'RECORD', 'mode':'NULLABLE', 'description': 'None' },\n",
        " { 'name': 'totals.visits', 'type': 'INTEGER', 'mode':'NULLABLE', 'description': 'None' },\n",
        " { 'name': 'totals.hits', 'type': 'INTEGER', 'mode':'NULLABLE', 'description': 'None' },\n",
        " { 'name': 'totals.pageviews', 'type': 'INTEGER', 'mode':'NULLABLE', 'description': 'None' },\n",
        " { 'name': 'totals.timeOnSite', 'type': 'INTEGER', 'mode':'NULLABLE', 'description': 'None' },\n",
        " { 'name': 'totals.bounces', 'type': 'INTEGER', 'mode':'NULLABLE', 'description': 'None' },\n",
        " { 'name': 'totals.transactions', 'type': 'INTEGER', 'mode':'NULLABLE', 'description': 'None' },\n",
        " { 'name': 'totals.transactionRevenue', 'type': 'INTEGER', 'mode':'NULLABLE', 'description': 'None' },\n",
        " { 'name': 'totals.newVisits', 'type': 'INTEGER', 'mode':'NULLABLE', 'description': 'None' },\n",
        " { 'name': 'totals.screenviews', 'type': 'INTEGER', 'mode':'NULLABLE', 'description': 'None' },\n",
        " { 'name': 'totals.uniqueScreenviews', 'type': 'INTEGER', 'mode':'NULLABLE', 'description': 'None' },\n",
        " { 'name': 'totals.timeOnScreen', 'type': 'INTEGER', 'mode':'NULLABLE', 'description': 'None' },\n",
        " { 'name': 'totals.totalTransactionRevenue', 'type': 'INTEGER', 'mode':'NULLABLE', 'description': 'None' },\n",
        " { 'name': 'trafficSource', 'type': 'RECORD', 'mode':'NULLABLE', 'description': 'None' },\n",
        " { 'name': 'trafficSource.referralPath', 'type': 'STRING', 'mode':'NULLABLE', 'description': 'None' },\n",
        " { 'name': 'trafficSource.campaign', 'type': 'STRING', 'mode':'NULLABLE', 'description': 'None' },\n",
        " { 'name': 'trafficSource.source', 'type': 'STRING', 'mode':'NULLABLE', 'description': 'None' },\n",
        " { 'name': 'trafficSource.medium', 'type': 'STRING', 'mode':'NULLABLE', 'description': 'None' },\n",
        " { 'name': 'trafficSource.keyword', 'type': 'STRING', 'mode':'NULLABLE', 'description': 'None' },\n",
        " { 'name': 'trafficSource.adContent', 'type': 'STRING', 'mode':'NULLABLE', 'description': 'None' },\n",
        " { 'name': 'device', 'type': 'RECORD', 'mode':'NULLABLE', 'description': 'None' },\n",
        " { 'name': 'device.browser', 'type': 'STRING', 'mode':'NULLABLE', 'description': 'None' },\n",
        " { 'name': 'device.browserVersion', 'type': 'STRING', 'mode':'NULLABLE', 'description': 'None' },\n",
        " { 'name': 'device.operatingSystem', 'type': 'STRING', 'mode':'NULLABLE', 'description': 'None' },\n",
        " { 'name': 'device.operatingSystemVersion', 'type': 'STRING', 'mode':'NULLABLE', 'description': 'None' },\n",
        " { 'name': 'device.isMobile', 'type': 'BOOLEAN', 'mode':'NULLABLE', 'description': 'None' },\n",
        " { 'name': 'device.mobileDeviceBranding', 'type': 'STRING', 'mode':'NULLABLE', 'description': 'None' },\n",
        " { 'name': 'device.flashVersion', 'type': 'STRING', 'mode':'NULLABLE', 'description': 'None' },\n",
        " { 'name': 'device.javaEnabled', 'type': 'BOOLEAN', 'mode':'NULLABLE', 'description': 'None' },\n",
        " { 'name': 'device.language', 'type': 'STRING', 'mode':'NULLABLE', 'description': 'None' },\n",
        " { 'name': 'device.screenColors', 'type': 'STRING', 'mode':'NULLABLE', 'description': 'None' },\n",
        " { 'name': 'device.screenResolution', 'type': 'STRING', 'mode':'NULLABLE', 'description': 'None' },\n",
        " { 'name': 'device.deviceCategory', 'type': 'STRING', 'mode':'NULLABLE', 'description': 'None' },\n",
        " { 'name': 'geoNetwork', 'type': 'RECORD', 'mode':'NULLABLE', 'description': 'None' },\n",
        " { 'name': 'geoNetwork.continent', 'type': 'STRING', 'mode':'NULLABLE', 'description': 'None' },\n",
        " { 'name': 'geoNetwork.subContinent', 'type': 'STRING', 'mode':'NULLABLE', 'description': 'None' },\n",
        " { 'name': 'geoNetwork.country', 'type': 'STRING', 'mode':'NULLABLE', 'description': 'None' },\n",
        " { 'name': 'geoNetwork.region', 'type': 'STRING', 'mode':'NULLABLE', 'description': 'None' },\n",
        " { 'name': 'geoNetwork.metro', 'type': 'STRING', 'mode':'NULLABLE', 'description': 'None' },\n",
        " { 'name': 'customDimensions', 'type': 'RECORD', 'mode':'REPEATED', 'description': 'None' },\n",
        " { 'name': 'customDimensions.index', 'type': 'INTEGER', 'mode':'NULLABLE', 'description': 'None' },\n",
        " { 'name': 'customDimensions.value', 'type': 'STRING', 'mode':'NULLABLE', 'description': 'None' },\n",
        " { 'name': 'hits', 'type': 'RECORD', 'mode':'REPEATED', 'description': 'None' },\n",
        " { 'name': 'hits.hitNumber', 'type': 'INTEGER', 'mode':'NULLABLE', 'description': 'None' },\n",
        " { 'name': 'hits.time', 'type': 'INTEGER', 'mode':'NULLABLE', 'description': 'None' },\n",
        " { 'name': 'hits.hour', 'type': 'INTEGER', 'mode':'NULLABLE', 'description': 'None' },\n",
        " { 'name': 'hits.minute', 'type': 'INTEGER', 'mode':'NULLABLE', 'description': 'None' },\n",
        " { 'name': 'hits.isSecure', 'type': 'BOOLEAN', 'mode':'NULLABLE', 'description': 'None' },\n",
        " { 'name': 'hits.isInteraction', 'type': 'BOOLEAN', 'mode':'NULLABLE', 'description': 'None' },\n",
        " { 'name': 'hits.referer', 'type': 'STRING', 'mode':'NULLABLE', 'description': 'None' },\n",
        " { 'name': 'hits.page', 'type': 'RECORD', 'mode':'NULLABLE', 'description': 'None' },\n",
        " { 'name': 'hits.page.pagePath', 'type': 'STRING', 'mode':'NULLABLE', 'description': 'None' },\n",
        " { 'name': 'hits.page.hostname', 'type': 'STRING', 'mode':'NULLABLE', 'description': 'None' },\n",
        " { 'name': 'hits.page.pageTitle', 'type': 'STRING', 'mode':'NULLABLE', 'description': 'None' },\n",
        " { 'name': 'hits.page.searchKeyword', 'type': 'STRING', 'mode':'NULLABLE', 'description': 'None' },\n",
        " { 'name': 'hits.page.searchCategory', 'type': 'STRING', 'mode':'NULLABLE', 'description': 'None' },\n",
        " { 'name': 'hits.transaction', 'type': 'RECORD', 'mode':'NULLABLE', 'description': 'None' },\n",
        " { 'name': 'hits.transaction.transactionId', 'type': 'STRING', 'mode':'NULLABLE', 'description': 'None' },\n",
        " { 'name': 'hits.transaction.transactionRevenue', 'type': 'INTEGER', 'mode':'NULLABLE', 'description': 'None' },\n",
        " { 'name': 'hits.transaction.transactionTax', 'type': 'INTEGER', 'mode':'NULLABLE', 'description': 'None' },\n",
        " { 'name': 'hits.transaction.transactionShipping', 'type': 'INTEGER', 'mode':'NULLABLE', 'description': 'None' },\n",
        " { 'name': 'hits.transaction.affiliation', 'type': 'STRING', 'mode':'NULLABLE', 'description': 'None' },\n",
        " { 'name': 'hits.transaction.currencyCode', 'type': 'STRING', 'mode':'NULLABLE', 'description': 'None' },\n",
        " { 'name': 'hits.transaction.localTransactionRevenue', 'type': 'INTEGER', 'mode':'NULLABLE', 'description': 'None' },\n",
        " { 'name': 'hits.transaction.localTransactionTax', 'type': 'INTEGER', 'mode':'NULLABLE', 'description': 'None' },\n",
        " { 'name': 'hits.transaction.localTransactionShipping', 'type': 'INTEGER', 'mode':'NULLABLE', 'description': 'None' },\n",
        " { 'name': 'hits.transaction.transactionCoupon', 'type': 'STRING', 'mode':'NULLABLE', 'description': 'None' },\n",
        " { 'name': 'hits.item', 'type': 'RECORD', 'mode':'NULLABLE', 'description': 'None' },\n",
        " { 'name': 'hits.item.transactionId', 'type': 'STRING', 'mode':'NULLABLE', 'description': 'None' },\n",
        " { 'name': 'hits.item.productName', 'type': 'STRING', 'mode':'NULLABLE', 'description': 'None' },\n",
        " { 'name': 'hits.item.productCategory', 'type': 'STRING', 'mode':'NULLABLE', 'description': 'None' },\n",
        " { 'name': 'hits.item.productSku', 'type': 'STRING', 'mode':'NULLABLE', 'description': 'None' },\n",
        " { 'name': 'hits.item.itemQuantity', 'type': 'INTEGER', 'mode':'NULLABLE', 'description': 'None' },\n",
        " { 'name': 'hits.item.itemRevenue', 'type': 'INTEGER', 'mode':'NULLABLE', 'description': 'None' },\n",
        " { 'name': 'hits.item.currencyCode', 'type': 'STRING', 'mode':'NULLABLE', 'description': 'None' },\n",
        " { 'name': 'hits.item.localItemRevenue', 'type': 'INTEGER', 'mode':'NULLABLE', 'description': 'None' },\n",
        " { 'name': 'hits.contentInfo', 'type': 'RECORD', 'mode':'NULLABLE', 'description': 'None' },\n",
        " { 'name': 'hits.contentInfo.contentDescription', 'type': 'STRING', 'mode':'NULLABLE', 'description': 'None' },\n",
        " { 'name': 'hits.appInfo', 'type': 'RECORD', 'mode':'NULLABLE', 'description': 'None' },\n",
        " { 'name': 'hits.appInfo.name', 'type': 'STRING', 'mode':'NULLABLE', 'description': 'None' },\n",
        " { 'name': 'hits.appInfo.version', 'type': 'STRING', 'mode':'NULLABLE', 'description': 'None' },\n",
        " { 'name': 'hits.appInfo.id', 'type': 'STRING', 'mode':'NULLABLE', 'description': 'None' },\n",
        " { 'name': 'hits.appInfo.installerId', 'type': 'STRING', 'mode':'NULLABLE', 'description': 'None' },\n",
        " { 'name': 'hits.appInfo.appInstallerId', 'type': 'STRING', 'mode':'NULLABLE', 'description': 'None' },\n",
        " { 'name': 'hits.appInfo.appName', 'type': 'STRING', 'mode':'NULLABLE', 'description': 'None' },\n",
        " { 'name': 'hits.appInfo.appVersion', 'type': 'STRING', 'mode':'NULLABLE', 'description': 'None' },\n",
        " { 'name': 'hits.appInfo.appId', 'type': 'STRING', 'mode':'NULLABLE', 'description': 'None' },\n",
        " { 'name': 'hits.appInfo.screenName', 'type': 'STRING', 'mode':'NULLABLE', 'description': 'None' },\n",
        " { 'name': 'hits.appInfo.landingScreenName', 'type': 'STRING', 'mode':'NULLABLE', 'description': 'None' },\n",
        " { 'name': 'hits.appInfo.exitScreenName', 'type': 'STRING', 'mode':'NULLABLE', 'description': 'None' },\n",
        " { 'name': 'hits.appInfo.screenDepth', 'type': 'STRING', 'mode':'NULLABLE', 'description': 'None' },\n",
        " { 'name': 'hits.exceptionInfo', 'type': 'RECORD', 'mode':'NULLABLE', 'description': 'None' },\n",
        " { 'name': 'hits.exceptionInfo.description', 'type': 'STRING', 'mode':'NULLABLE', 'description': 'None' },\n",
        " { 'name': 'hits.exceptionInfo.isFatal', 'type': 'BOOLEAN', 'mode':'NULLABLE', 'description': 'None' },\n",
        " { 'name': 'hits.eventInfo', 'type': 'RECORD', 'mode':'NULLABLE', 'description': 'None' },\n",
        " { 'name': 'hits.eventInfo.eventCategory', 'type': 'STRING', 'mode':'NULLABLE', 'description': 'None' },\n",
        " { 'name': 'hits.eventInfo.eventAction', 'type': 'STRING', 'mode':'NULLABLE', 'description': 'None' },\n",
        " { 'name': 'hits.eventInfo.eventLabel', 'type': 'STRING', 'mode':'NULLABLE', 'description': 'None' },\n",
        " { 'name': 'hits.eventInfo.eventValue', 'type': 'INTEGER', 'mode':'NULLABLE', 'description': 'None' },\n",
        " { 'name': 'hits.product', 'type': 'RECORD', 'mode':'REPEATED', 'description': 'None' },\n",
        " { 'name': 'hits.product.productSKU', 'type': 'STRING', 'mode':'NULLABLE', 'description': 'None' },\n",
        " { 'name': 'hits.product.v2ProductName', 'type': 'STRING', 'mode':'NULLABLE', 'description': 'None' },\n",
        " { 'name': 'hits.product.v2ProductCategory', 'type': 'STRING', 'mode':'NULLABLE', 'description': 'None' },\n",
        " { 'name': 'hits.product.productVariant', 'type': 'STRING', 'mode':'NULLABLE', 'description': 'None' },\n",
        " { 'name': 'hits.product.productBrand', 'type': 'STRING', 'mode':'NULLABLE', 'description': 'None' },\n",
        " { 'name': 'hits.product.productRevenue', 'type': 'INTEGER', 'mode':'NULLABLE', 'description': 'None' },\n",
        " { 'name': 'hits.product.localProductRevenue', 'type': 'INTEGER', 'mode':'NULLABLE', 'description': 'None' },\n",
        " { 'name': 'hits.product.productPrice', 'type': 'INTEGER', 'mode':'NULLABLE', 'description': 'None' },\n",
        " { 'name': 'hits.product.localProductPrice', 'type': 'INTEGER', 'mode':'NULLABLE', 'description': 'None' },\n",
        " { 'name': 'hits.product.productQuantity', 'type': 'INTEGER', 'mode':'NULLABLE', 'description': 'None' },\n",
        " { 'name': 'hits.product.productRefundAmount', 'type': 'INTEGER', 'mode':'NULLABLE', 'description': 'None' },\n",
        " { 'name': 'hits.product.localProductRefundAmount', 'type': 'INTEGER', 'mode':'NULLABLE', 'description': 'None' },\n",
        " { 'name': 'hits.product.isImpression', 'type': 'BOOLEAN', 'mode':'NULLABLE', 'description': 'None' },\n",
        " { 'name': 'hits.promotion', 'type': 'RECORD', 'mode':'REPEATED', 'description': 'None' },\n",
        " { 'name': 'hits.promotion.promoId', 'type': 'STRING', 'mode':'NULLABLE', 'description': 'None' },\n",
        " { 'name': 'hits.promotion.promoName', 'type': 'STRING', 'mode':'NULLABLE', 'description': 'None' },\n",
        " { 'name': 'hits.promotion.promoCreative', 'type': 'STRING', 'mode':'NULLABLE', 'description': 'None' },\n",
        " { 'name': 'hits.promotion.promoPosition', 'type': 'STRING', 'mode':'NULLABLE', 'description': 'None' },\n",
        " { 'name': 'hits.refund', 'type': 'RECORD', 'mode':'NULLABLE', 'description': 'None' },\n",
        " { 'name': 'hits.refund.refundAmount', 'type': 'INTEGER', 'mode':'NULLABLE', 'description': 'None' },\n",
        " { 'name': 'hits.refund.localRefundAmount', 'type': 'INTEGER', 'mode':'NULLABLE', 'description': 'None' },\n",
        " { 'name': 'hits.eCommerceAction', 'type': 'RECORD', 'mode':'NULLABLE', 'description': 'None' },\n",
        " { 'name': 'hits.eCommerceAction.action_type', 'type': 'STRING', 'mode':'NULLABLE', 'description': 'None' },\n",
        " { 'name': 'hits.eCommerceAction.step', 'type': 'INTEGER', 'mode':'NULLABLE', 'description': 'None' },\n",
        " { 'name': 'hits.eCommerceAction.option', 'type': 'STRING', 'mode':'NULLABLE', 'description': 'None' },\n",
        " { 'name': 'hits.customVariables', 'type': 'RECORD', 'mode':'REPEATED', 'description': 'None' },\n",
        " { 'name': 'hits.customVariables.index', 'type': 'INTEGER', 'mode':'NULLABLE', 'description': 'None' },\n",
        " { 'name': 'hits.customVariables.customVarName', 'type': 'STRING', 'mode':'NULLABLE', 'description': 'None' },\n",
        " { 'name': 'hits.customVariables.customVarValue', 'type': 'STRING', 'mode':'NULLABLE', 'description': 'None' },\n",
        " { 'name': 'hits.customDimensions', 'type': 'RECORD', 'mode':'REPEATED', 'description': 'None' },\n",
        " { 'name': 'hits.customDimensions.index', 'type': 'INTEGER', 'mode':'NULLABLE', 'description': 'None' },\n",
        " { 'name': 'hits.customDimensions.value', 'type': 'STRING', 'mode':'NULLABLE', 'description': 'None' },\n",
        " { 'name': 'hits.customMetrics', 'type': 'RECORD', 'mode':'REPEATED', 'description': 'None' },\n",
        " { 'name': 'hits.customMetrics.index', 'type': 'INTEGER', 'mode':'NULLABLE', 'description': 'None' },\n",
        " { 'name': 'hits.customMetrics.value', 'type': 'INTEGER', 'mode':'NULLABLE', 'description': 'None' },\n",
        " { 'name': 'hits.type', 'type': 'STRING', 'mode':'NULLABLE', 'description': 'None' },\n",
        " { 'name': 'hits.social', 'type': 'RECORD', 'mode':'NULLABLE', 'description': 'None' },\n",
        " { 'name': 'hits.social.socialInteractionNetwork', 'type': 'STRING', 'mode':'NULLABLE', 'description': 'None' },\n",
        " { 'name': 'hits.social.socialInteractionAction', 'type': 'STRING', 'mode':'NULLABLE', 'description': 'None' },\n",
        " { 'name': 'fullVisitorId', 'type': 'STRING', 'mode':'NULLABLE', 'description': 'None' }]"
       ]
      }
     ],
     "prompt_number": 2
    },
    {
     "cell_type": "heading",
     "level": 2,
     "metadata": {},
     "source": [
      "Task 2: Start first query (Vistor + Hits)"
     ]
    },
    {
     "cell_type": "code",
     "collapsed": false,
     "input": [
      "%%bigquery sql\n",
      "select fullVisitorID, visitID, hits.hitNumber, hits.page.pagePath, hits.type \n",
      "from [savvy-droplet-734:google_shop_gap.ga_sessions_20150710] \n",
      "ORDER BY 2,3 asc \n",
      "Limit 10"
     ],
     "language": "python",
     "metadata": {},
     "outputs": [
      {
       "html": [
        "\n",
        "    <div class=\"bqtv\" id=\"bqtv_1437045432\"></div>\n",
        "    <div><br />job_jAezFFObuSm5XwGLLBv9i5KkyUg<br />rows: 10</div>\n",
        "    <script>\n",
        "      require(['extensions/charting', 'element!bqtv_1437045432'],\n",
        "        function(charts, dom) {\n",
        "          charts.render(dom,\n",
        "            {\n",
        "              chartStyle:\"paged_table\",\n",
        "              dataName:\"savvy-droplet-734:_3fb073b04a4113d46b4a94aa972f4adec735ab0a.anonaa5f7c18d37e12dbe577a86962b154091d710095\",\n",
        "              fields:\"fullVisitorID,visitID,hits_hitNumber,hits_page_pagePath,hits_type\",\n",
        "              totalRows:10,\n",
        "              rowsPerPage:25,\n",
        "            }, {}, {\"rows\": [{\"c\": [{\"v\": \"5422309587441112546\"}, {\"v\": 1436505574}, {\"v\": 8}, {\"v\": \"/shop.axd/Home\"}, {\"v\": \"EVENT\"}]}, {\"c\": [{\"v\": \"5422309587441112546\"}, {\"v\": 1436505574}, {\"v\": 9}, {\"v\": \"/shop.axd/Home\"}, {\"v\": \"EVENT\"}]}, {\"c\": [{\"v\": \"5422309587441112546\"}, {\"v\": 1436505574}, {\"v\": 10}, {\"v\": \"/shop.axd/Home\"}, {\"v\": \"EVENT\"}]}, {\"c\": [{\"v\": \"5422309587441112546\"}, {\"v\": 1436505574}, {\"v\": 11}, {\"v\": \"/shop.axd/Home\"}, {\"v\": \"EVENT\"}]}, {\"c\": [{\"v\": \"5422309587441112546\"}, {\"v\": 1436505574}, {\"v\": 12}, {\"v\": \"/shop.axd/Home\"}, {\"v\": \"EVENT\"}]}, {\"c\": [{\"v\": \"5422309587441112546\"}, {\"v\": 1436505574}, {\"v\": 13}, {\"v\": \"/shop.axd/Home\"}, {\"v\": \"EVENT\"}]}, {\"c\": [{\"v\": \"5422309587441112546\"}, {\"v\": 1436505574}, {\"v\": 14}, {\"v\": \"/shop.axd/Home\"}, {\"v\": \"EVENT\"}]}, {\"c\": [{\"v\": \"5422309587441112546\"}, {\"v\": 1436505574}, {\"v\": 15}, {\"v\": \"/shop.axd/Home\"}, {\"v\": \"EVENT\"}]}, {\"c\": [{\"v\": \"5422309587441112546\"}, {\"v\": 1436505574}, {\"v\": 16}, {\"v\": \"/shop.axd/Home\"}, {\"v\": \"EVENT\"}]}, {\"c\": [{\"v\": \"5422309587441112546\"}, {\"v\": 1436505574}, {\"v\": 17}, {\"v\": \"/shop.axd/Home\"}, {\"v\": \"EVENT\"}]}], \"cols\": [{\"type\": \"string\", \"id\": \"fullVisitorID\", \"label\": \"fullVisitorID\"}, {\"type\": \"number\", \"id\": \"visitID\", \"label\": \"visitID\"}, {\"type\": \"number\", \"id\": \"hits_hitNumber\", \"label\": \"hits_hitNumber\"}, {\"type\": \"string\", \"id\": \"hits_page_pagePath\", \"label\": \"hits_page_pagePath\"}, {\"type\": \"string\", \"id\": \"hits_type\", \"label\": \"hits_type\"}]});\n",
        "        }\n",
        "      );\n",
        "    </script>\n",
        "  "
       ],
       "metadata": {},
       "output_type": "pyout",
       "prompt_number": 26,
       "text": []
      }
     ],
     "prompt_number": 26
    },
    {
     "cell_type": "markdown",
     "metadata": {},
     "source": [
      "But let's do a more complicated query that actually returns something. \n",
      "Let's say we wanted to know the number of visits broken down by the traffic \n",
      "source, the browser used, and the operating system used. I can run this \n",
      "by using this query "
     ]
    },
    {
     "cell_type": "heading",
     "level": 2,
     "metadata": {},
     "source": [
      "Task 3: More complex query with table wildcards"
     ]
    },
    {
     "cell_type": "markdown",
     "metadata": {},
     "source": [
      "But let's do a more complicated query that actually returns something. Let's say we wanted to know the number of visits broken down by the traffic source, the browser used, and the operating system used. I can run this by using this query (using table wildcards)"
     ]
    },
    {
     "cell_type": "code",
     "collapsed": false,
     "input": [
      "%%bigquery sql\n",
      "SELECT trafficSource.source as traffic_source,device.browser as browser,device.operatingSystem as os,SUM(totals.visits) as visits\n",
      "-- FROM [savvy-droplet-734:google_shop_gap.ga_sessions_20150710]\n",
      "FROM (TABLE_DATE_RANGE([savvy-droplet-734:google_shop_gap.ga_sessions_], TIMESTAMP('2015-07-01'), TIMESTAMP('2015-07-07')))\n",
      "GROUP BY traffic_source,browser, os\n",
      "order by visits desc\n",
      "limit 50"
     ],
     "language": "python",
     "metadata": {},
     "outputs": [
      {
       "html": [
        "\n",
        "    <div class=\"bqtv\" id=\"bqtv_1437034046\"></div>\n",
        "    <div><br />job_FMSsAgVG_SllYRby9WbHAfo_ckQ<br />rows: 50</div>\n",
        "    <script>\n",
        "      require(['extensions/charting', 'element!bqtv_1437034046'],\n",
        "        function(charts, dom) {\n",
        "          charts.render(dom,\n",
        "            {\n",
        "              chartStyle:\"paged_table\",\n",
        "              dataName:\"savvy-droplet-734:_3fb073b04a4113d46b4a94aa972f4adec735ab0a.anon5128afe48c9eba29e38b06d29737cb0c3e99adf2\",\n",
        "              fields:\"traffic_source,browser,os,visits\",\n",
        "              totalRows:50,\n",
        "              rowsPerPage:25,\n",
        "            }, {}, {\"rows\": [{\"c\": [{\"v\": \"google\"}, {\"v\": \"Chrome\"}, {\"v\": \"Windows\"}, {\"v\": 1853}]}, {\"c\": [{\"v\": \"google\"}, {\"v\": \"Safari\"}, {\"v\": \"iOS\"}, {\"v\": 945}]}, {\"c\": [{\"v\": \"google\"}, {\"v\": \"Chrome\"}, {\"v\": \"Macintosh\"}, {\"v\": 867}]}, {\"c\": [{\"v\": \"google\"}, {\"v\": \"Chrome\"}, {\"v\": \"Android\"}, {\"v\": 832}]}, {\"c\": [{\"v\": \"youtube.com\"}, {\"v\": \"Chrome\"}, {\"v\": \"Windows\"}, {\"v\": 728}]}, {\"c\": [{\"v\": \"mall.googleplex.com\"}, {\"v\": \"Chrome\"}, {\"v\": \"Macintosh\"}, {\"v\": 470}]}, {\"c\": [{\"v\": \"google\"}, {\"v\": \"Firefox\"}, {\"v\": \"Windows\"}, {\"v\": 358}]}, {\"c\": [{\"v\": \"(direct)\"}, {\"v\": \"Chrome\"}, {\"v\": \"Android\"}, {\"v\": 337}]}, {\"c\": [{\"v\": \"(direct)\"}, {\"v\": \"Chrome\"}, {\"v\": \"Windows\"}, {\"v\": 299}]}, {\"c\": [{\"v\": \"google\"}, {\"v\": \"Safari\"}, {\"v\": \"Macintosh\"}, {\"v\": 251}]}, {\"c\": [{\"v\": \"google\"}, {\"v\": \"Internet Explorer\"}, {\"v\": \"Windows\"}, {\"v\": 228}]}, {\"c\": [{\"v\": \"youtube.com\"}, {\"v\": \"Internet Explorer\"}, {\"v\": \"Windows\"}, {\"v\": 225}]}, {\"c\": [{\"v\": \"google\"}, {\"v\": \"Chrome\"}, {\"v\": \"Chrome OS\"}, {\"v\": 219}]}, {\"c\": [{\"v\": \"google\"}, {\"v\": \"Chrome\"}, {\"v\": \"Linux\"}, {\"v\": 196}]}, {\"c\": [{\"v\": \"youtube.com\"}, {\"v\": \"Firefox\"}, {\"v\": \"Windows\"}, {\"v\": 169}]}, {\"c\": [{\"v\": \"(direct)\"}, {\"v\": \"Chrome\"}, {\"v\": \"Macintosh\"}, {\"v\": 162}]}, {\"c\": [{\"v\": \"mall.googleplex.com\"}, {\"v\": \"Chrome\"}, {\"v\": \"Linux\"}, {\"v\": 156}]}, {\"c\": [{\"v\": \"(direct)\"}, {\"v\": \"Safari\"}, {\"v\": \"iOS\"}, {\"v\": 155}]}, {\"c\": [{\"v\": \"google\"}, {\"v\": \"Android Browser\"}, {\"v\": \"Android\"}, {\"v\": 119}]}, {\"c\": [{\"v\": \"google\"}, {\"v\": \"Chrome\"}, {\"v\": \"iOS\"}, {\"v\": 101}]}, {\"c\": [{\"v\": \"youtube.com\"}, {\"v\": \"Opera Mini\"}, {\"v\": \"(not set)\"}, {\"v\": 82}]}, {\"c\": [{\"v\": \"mall.googleplex.com\"}, {\"v\": \"Chrome\"}, {\"v\": \"Chrome OS\"}, {\"v\": 66}]}, {\"c\": [{\"v\": \"google\"}, {\"v\": \"Firefox\"}, {\"v\": \"Macintosh\"}, {\"v\": 64}]}, {\"c\": [{\"v\": \"mall.googleplex.com\"}, {\"v\": \"Chrome\"}, {\"v\": \"Windows\"}, {\"v\": 59}]}, {\"c\": [{\"v\": \"(direct)\"}, {\"v\": \"Chrome\"}, {\"v\": \"Chrome OS\"}, {\"v\": 59}]}], \"cols\": [{\"type\": \"string\", \"id\": \"traffic_source\", \"label\": \"traffic_source\"}, {\"type\": \"string\", \"id\": \"browser\", \"label\": \"browser\"}, {\"type\": \"string\", \"id\": \"os\", \"label\": \"os\"}, {\"type\": \"number\", \"id\": \"visits\", \"label\": \"visits\"}]});\n",
        "        }\n",
        "      );\n",
        "    </script>\n",
        "  "
       ],
       "metadata": {},
       "output_type": "pyout",
       "prompt_number": 21,
       "text": []
      }
     ],
     "prompt_number": 21
    },
    {
     "cell_type": "heading",
     "level": 2,
     "metadata": {},
     "source": [
      "Task 4: Same query with ecommerce transactions"
     ]
    },
    {
     "cell_type": "markdown",
     "metadata": {},
     "source": [
      "Same as before but only ones that had ecommerce transaction. But let's do a more complicated query that actually returns something. Let's say we wanted to know the number of visits broken down by the traffic  source, the browser used, and the operating system used. I can run this by using this query "
     ]
    },
    {
     "cell_type": "code",
     "collapsed": false,
     "input": [
      "%%bigquery sql\n",
      "SELECT trafficSource.source as traffic_source,device.browser as browser,device.operatingSystem as os,SUM(totals.visits) as visits\n",
      " FROM [savvy-droplet-734:google_shop_gap.ga_sessions_20150710]\n",
      "-- FROM [starlit-granite-545:73156703.ga_sessions_20150422]\n",
      "WHERE totals.transactions is not null\n",
      "GROUP BY traffic_source,browser, os\n",
      "order by visits desc\n",
      "limit 10"
     ],
     "language": "python",
     "metadata": {},
     "outputs": [
      {
       "html": [
        "\n",
        "    <div class=\"bqtv\" id=\"bqtv_1437034056\"></div>\n",
        "    <div><br />job_LNwBsHDc3X_9hxLlyxAX-rrFva4<br />rows: 10</div>\n",
        "    <script>\n",
        "      require(['extensions/charting', 'element!bqtv_1437034056'],\n",
        "        function(charts, dom) {\n",
        "          charts.render(dom,\n",
        "            {\n",
        "              chartStyle:\"paged_table\",\n",
        "              dataName:\"savvy-droplet-734:_3fb073b04a4113d46b4a94aa972f4adec735ab0a.anon0609de1295cdb9ea106f636fb33b5395b2832044\",\n",
        "              fields:\"traffic_source,browser,os,visits\",\n",
        "              totalRows:10,\n",
        "              rowsPerPage:25,\n",
        "            }, {}, {\"rows\": [{\"c\": [{\"v\": \"mall.googleplex.com\"}, {\"v\": \"Chrome\"}, {\"v\": \"Macintosh\"}, {\"v\": 4}]}, {\"c\": [{\"v\": \"google\"}, {\"v\": \"Chrome\"}, {\"v\": \"Macintosh\"}, {\"v\": 2}]}, {\"c\": [{\"v\": \"google\"}, {\"v\": \"Safari\"}, {\"v\": \"iOS\"}, {\"v\": 1}]}, {\"c\": [{\"v\": \"google\"}, {\"v\": \"Chrome\"}, {\"v\": \"Windows\"}, {\"v\": 1}]}, {\"c\": [{\"v\": \"google\"}, {\"v\": \"Chrome\"}, {\"v\": \"Android\"}, {\"v\": 1}]}, {\"c\": [{\"v\": \"moma.corp.google.com\"}, {\"v\": \"Chrome\"}, {\"v\": \"Linux\"}, {\"v\": 1}]}, {\"c\": [{\"v\": \"mall.googleplex.com\"}, {\"v\": \"Chrome\"}, {\"v\": \"Chrome OS\"}, {\"v\": 1}]}, {\"c\": [{\"v\": \"google\"}, {\"v\": \"Chrome\"}, {\"v\": \"Chrome OS\"}, {\"v\": 1}]}, {\"c\": [{\"v\": \"phandroid.com\"}, {\"v\": \"Chrome\"}, {\"v\": \"Linux\"}, {\"v\": 1}]}, {\"c\": [{\"v\": \"facebook.com\"}, {\"v\": \"Chrome\"}, {\"v\": \"Windows\"}, {\"v\": 1}]}], \"cols\": [{\"type\": \"string\", \"id\": \"traffic_source\", \"label\": \"traffic_source\"}, {\"type\": \"string\", \"id\": \"browser\", \"label\": \"browser\"}, {\"type\": \"string\", \"id\": \"os\", \"label\": \"os\"}, {\"type\": \"number\", \"id\": \"visits\", \"label\": \"visits\"}]});\n",
        "        }\n",
        "      );\n",
        "    </script>\n",
        "  "
       ],
       "metadata": {},
       "output_type": "pyout",
       "prompt_number": 22,
       "text": []
      }
     ],
     "prompt_number": 22
    },
    {
     "cell_type": "heading",
     "level": 2,
     "metadata": {},
     "source": [
      "Task 5: Most popular previous pages"
     ]
    },
    {
     "cell_type": "markdown",
     "metadata": {},
     "source": [
      "Example pathing query to take a target page (/Google+Redesign/Brands/Android/) and see the most popular previous pages:"
     ]
    },
    {
     "cell_type": "code",
     "collapsed": false,
     "input": [
      "%%bigquery sql\n",
      "SELECT tr.hits.page.pagePath as previousPagePath, COUNT(tr.visitId) as sessions\n",
      "FROM (FLATTEN([savvy-droplet-734:google_shop_gap.ga_sessions_20150710],hits)) as tR\n",
      "JOIN (\n",
      "  SELECT MAX(fR.hits.hitNumber) as MaxHit, fR.visitID as Visit\n",
      "  FROM (FLATTEN([savvy-droplet-734:google_shop_gap.ga_sessions_20150710],hits)) as fR\n",
      "JOIN (\n",
      "  SELECT hits.hitNumber as originalHN, visitId, fullVisitorId\n",
      "  FROM (FLATTEN([savvy-droplet-734:google_shop_gap.ga_sessions_20150710],hits))\n",
      "  // Insert page for analysis here\n",
      "  WHERE hits.page.pagePath = \"/Google+Redesign/Brands/Android/\") as sR\n",
      "  ON ((fR.visitID = sR.visitID) AND (sR.fullVisitorId = fr.fullVisitorId))\n",
      "  WHERE fR.hits.hitNumber < sR.originalHN\n",
      "  GROUP BY Visit) previousPageDerived\n",
      "ON (previousPageDerived.MaxHit = tR.hits.hitNumber AND previousPageDerived.Visit = tR.visitId)\n",
      "GROUP BY 1\n",
      "ORDER BY 2 DESC"
     ],
     "language": "python",
     "metadata": {},
     "outputs": [
      {
       "html": [
        "\n",
        "    <div class=\"bqtv\" id=\"bqtv_1436988880\"></div>\n",
        "    <div><br />job_PgvC4CeiH9sCouttuKjknv-kgfA<br />rows: 2</div>\n",
        "    <script>\n",
        "      require(['extensions/charting', 'element!bqtv_1436988880'],\n",
        "        function(charts, dom) {\n",
        "          charts.render(dom,\n",
        "            {\n",
        "              chartStyle:\"paged_table\",\n",
        "              dataName:\"savvy-droplet-734:_3fb073b04a4113d46b4a94aa972f4adec735ab0a.anon81471fc7953f05c090f22ea39832016d329b128a\",\n",
        "              fields:\"previousPagePath,sessions\",\n",
        "              totalRows:2,\n",
        "              rowsPerPage:25,\n",
        "            }, {}, {\"rows\": [{\"c\": [{\"v\": \"/Google+Redesign/Brands/Android/\"}, {\"v\": 101}]}, {\"c\": [{\"v\": \"/New/Ladies+Android+Soccer+T-Shirt.axd/quickview\"}, {\"v\": 1}]}], \"cols\": [{\"type\": \"string\", \"id\": \"previousPagePath\", \"label\": \"previousPagePath\"}, {\"type\": \"number\", \"id\": \"sessions\", \"label\": \"sessions\"}]});\n",
        "        }\n",
        "      );\n",
        "    </script>\n",
        "  "
       ],
       "metadata": {},
       "output_type": "pyout",
       "prompt_number": 40,
       "text": []
      }
     ],
     "prompt_number": 40
    },
    {
     "cell_type": "heading",
     "level": 2,
     "metadata": {},
     "source": [
      "Task 6: Joining Data with internal data source"
     ]
    },
    {
     "cell_type": "markdown",
     "metadata": {},
     "source": [
      "Example script which takes Google Store online data and joins to an offline dataset containing information on \u2018Member Type\u2019 (Gold, Silver, or Bronze). This script returns transactions by member type:"
     ]
    },
    {
     "cell_type": "code",
     "collapsed": false,
     "input": [
      "%%bigquery sql --name membertype\n",
      "SELECT memberType, SUM(totals.transactions) as totalTransactions FROM (\n",
      "SELECT * FROM [savvy-droplet-734:google_shop_gap.ga_sessions_20150710]) as gap\n",
      "JOIN google_shop_gap.membertype mem\n",
      "ON gap.fullVisitorID = mem.fullVisitorID\n",
      "\n",
      "GROUP BY 1"
     ],
     "language": "python",
     "metadata": {},
     "outputs": [
      {
       "html": [
        "\n",
        "    <div class=\"bqtv\" id=\"bqtv_1437122602\"></div>\n",
        "    <div><br />job__8fR8Gn50k_WwA7PEiUNuSEfJg4<br />rows: 3</div>\n",
        "    <script>\n",
        "      require(['extensions/charting', 'element!bqtv_1437122602'],\n",
        "        function(charts, dom) {\n",
        "          charts.render(dom,\n",
        "            {\n",
        "              chartStyle:\"paged_table\",\n",
        "              dataName:\"savvy-droplet-734:_3fb073b04a4113d46b4a94aa972f4adec735ab0a.anone2516164fd599c5fc895e3234bc3ad7b5d105857\",\n",
        "              fields:\"memberType,totalTransactions\",\n",
        "              totalRows:3,\n",
        "              rowsPerPage:25,\n",
        "            }, {}, {\"rows\": [{\"c\": [{\"v\": \"Bronze \"}, {\"v\": 8}]}, {\"c\": [{\"v\": \"Silver \"}, {\"v\": 6}]}, {\"c\": [{\"v\": \"Gold\"}, {\"v\": 2}]}], \"cols\": [{\"type\": \"string\", \"id\": \"memberType\", \"label\": \"memberType\"}, {\"type\": \"number\", \"id\": \"totalTransactions\", \"label\": \"totalTransactions\"}]});\n",
        "        }\n",
        "      );\n",
        "    </script>\n",
        "  "
       ],
       "metadata": {},
       "output_type": "pyout",
       "prompt_number": 5,
       "text": []
      }
     ],
     "prompt_number": 5
    },
    {
     "cell_type": "code",
     "collapsed": false,
     "input": [
      "%%chart pie  --field memberType,totalTransactions membertype\n",
      "{\n",
      "  title: 'GAP events by member type' \n",
      "}"
     ],
     "language": "python",
     "metadata": {},
     "outputs": [
      {
       "html": [
        "\n",
        "    <div class=\"bqgc\" id=\"bqgc_143712277730\">\n",
        "    </div>\n",
        "    <script>\n",
        "          require(['extensions/charting', 'element!bqgc_143712277730'],\n",
        "              function(charts, dom) {\n",
        "                  charts.render(dom, {chartStyle:'pie', dataName:'membertype', fields:'memberType,totalTransactions'}, {\n",
        "  title: 'GAP events by member type' \n",
        "}, {\"rows\": [{\"c\": [{\"v\": \"Bronze \"}, {\"v\": 8}]}, {\"c\": [{\"v\": \"Silver \"}, {\"v\": 6}]}, {\"c\": [{\"v\": \"Gold\"}, {\"v\": 2}]}], \"cols\": [{\"type\": \"string\", \"id\": \"memberType\", \"label\": \"memberType\"}, {\"type\": \"number\", \"id\": \"totalTransactions\", \"label\": \"totalTransactions\"}]});\n",
        "              }\n",
        "          );\n",
        "    </script>\n",
        "  "
       ],
       "metadata": {},
       "output_type": "pyout",
       "prompt_number": 9,
       "text": [
        "<IPython.core.display.HTML at 0x7f6b596f7e90>"
       ]
      }
     ],
     "prompt_number": 9
    }
   ],
   "metadata": {}
  }
 ]
}
